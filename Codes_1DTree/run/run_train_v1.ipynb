{
 "cells": [
  {
   "cell_type": "code",
   "execution_count": null,
   "metadata": {},
   "outputs": [],
   "source": [
    "import sys\n",
    "sys.path.insert(1, '../')\n",
    "import os\n",
    "os.environ[\"CUDA_VISIBLE_DEVICES\"]=\"2\" \n",
    "CUDA_LAUNCH_BLOCKING=1"
   ]
  },
  {
   "cell_type": "code",
   "execution_count": 2,
   "metadata": {},
   "outputs": [],
   "source": [
    "import torch\n",
    "from data.graph_dataset import OneDDatasetBuilder, OneDDatasetLoader\n",
    "from data.pre_process import *\n",
    "from data.post_process import print_1D\n",
    "from networks.gcnv1 import GraphNet\n",
    "import matplotlib.pyplot as plt\n",
    "from networks.losses import LpLoss"
   ]
  },
  {
   "cell_type": "code",
   "execution_count": 3,
   "metadata": {},
   "outputs": [],
   "source": [
    "test = False"
   ]
  },
  {
   "cell_type": "code",
   "execution_count": 4,
   "metadata": {},
   "outputs": [],
   "source": [
    "class objectview(object):\n",
    "    def __init__(self, d) -> None:\n",
    "        self.__dict__ = d\n",
    "    def setattr(self, attr_name, attr_value):\n",
    "        self.__dict__[attr_name] = attr_value\n",
    "\n",
    "args = objectview({\n",
    "    'n_fields': 1,\n",
    "    'n_meshfields': (9, 5),\n",
    "    'hidden_size': 512,\n",
    "    'n_layers': 10,\n",
    "    'n_timesteps': 201,\n",
    "    'n_previous_timesteps': 1,\n",
    "    'aggr': 'sum',\n",
    "    'act': 'relu',\n",
    "    'dropout': 0.2,\n",
    "    'device': torch.device('cuda:0' if torch.cuda.is_available() else 'cpu'),\n",
    "    'lr': 5e-5,\n",
    "    'weight_decay': 5e-4,\n",
    "    'n_epoch': 50000,\n",
    "    'alpha': 1.0, \n",
    "    'batch_size': 100,\n",
    "    'timestep': 201,\n",
    "    'timeslice_hops': 0,\n",
    "    'timeslice_steps': 1,\n",
    "    'n_data_per_batch': 1,\n",
    "    'forward_sequence': False,\n",
    "    'criterion': torch.nn.MSELoss(),\n",
    "    'plot': False\n",
    "})"
   ]
  },
  {
   "cell_type": "code",
   "execution_count": null,
   "metadata": {},
   "outputs": [],
   "source": [
    "# # Build dataset\n",
    "# dataset = OneDDatasetBuilder(\n",
    "#     raw_dir='/data1/tam/datasets',\n",
    "#     root_dir='/data1/tam/downloaded_datasets_v3',\n",
    "#     sub_dir='processed',\n",
    "#     subjects='all',\n",
    "#     refined_max_length=4.,\n",
    "#     time_names=[str(i).zfill(3) for i in range(201)],\n",
    "#     data_type = torch.float64,\n",
    "# )"
   ]
  },
  {
   "cell_type": "code",
   "execution_count": 5,
   "metadata": {},
   "outputs": [],
   "source": [
    "# Load raw dataset\n",
    "dataset = OneDDatasetLoader(\n",
    "    root_dir='/data1/tam/downloaded_datasets_v2',\n",
    "    sub_dir='normalized',\n",
    "    subjects='all',\n",
    "    time_names=[str(i).zfill(3) for i in range(201)],\n",
    "    data_type = torch.float64,\n",
    ")"
   ]
  },
  {
   "cell_type": "code",
   "execution_count": 6,
   "metadata": {},
   "outputs": [
    {
     "data": {
      "text/plain": [
       "TorchGraphData(edge_index=[2, 64111], edge_index_raw=[2, 59587], original_flag=[64112], node_attr=[64112, 9], edge_attr=[64111, 15], pressure=[64112, 201], flowrate=[64112, 201])"
      ]
     },
     "execution_count": 6,
     "metadata": {},
     "output_type": "execute_result"
    }
   ],
   "source": [
    "dataset[0]"
   ]
  },
  {
   "cell_type": "code",
   "execution_count": null,
   "metadata": {},
   "outputs": [],
   "source": [
    "from torch_geometric.loader import DataLoader\n",
    "\n",
    "loader = DataLoader(dataset, batch_size=2)"
   ]
  },
  {
   "cell_type": "code",
   "execution_count": null,
   "metadata": {},
   "outputs": [],
   "source": [
    "next(iter(loader))"
   ]
  },
  {
   "cell_type": "code",
   "execution_count": null,
   "metadata": {},
   "outputs": [],
   "source": [
    "# Normalize dataset\n",
    "dataset = normalize(\n",
    "    dataset=dataset,\n",
    "    sub_dir='normalized',\n",
    "    scaler_dict={\n",
    "        'node_attr' : ['minmax_scaler']*args.n_meshfields[0],\n",
    "        'edge_attr' : ['minmax_scaler']*args.n_meshfields[1],\n",
    "        'pressure' : 'minmax_scaler',\n",
    "    },\n",
    "    clipping=5e-4\n",
    ")"
   ]
  },
  {
   "cell_type": "code",
   "execution_count": null,
   "metadata": {},
   "outputs": [],
   "source": [
    "# Load normalized datasset\n",
    "dataset = OneDDatasetLoader(\n",
    "    root_dir='/data1/tam/downloaded_datasets_v3',\n",
    "    sub_dir='normalized',\n",
    "    subjects='all',\n",
    "    time_names=[str(i).zfill(3) for i in range(201)],\n",
    "    data_type = torch.float64,\n",
    ")"
   ]
  },
  {
   "cell_type": "code",
   "execution_count": null,
   "metadata": {},
   "outputs": [],
   "source": [
    "# Batch dataset\n",
    "# batched_dataset = batchgraph_generation_wise(\n",
    "#     sub_dir = 'batched',\n",
    "#     dataset=dataset,\n",
    "#     batch_gens=[[0,9], [10, 13], [14, 17], [18, 50]],\n",
    "#     subset_hops=1,\n",
    "# )\n",
    "batched_dataset = batchgraph_edgewise(\n",
    "    sub_dir = 'batched',\n",
    "    dataset=dataset,\n",
    "    subset_hops=2,\n",
    ")"
   ]
  },
  {
   "cell_type": "code",
   "execution_count": null,
   "metadata": {},
   "outputs": [],
   "source": [
    "# Load batched dataset\n",
    "dataset = OneDDatasetLoader(\n",
    "    root_dir='/data1/tam/downloaded_datasets_v3',\n",
    "    sub_dir='batched',\n",
    "    subjects=['10081'],\n",
    "    time_names=[str(i).zfill(3) for i in range(201)],\n",
    "    data_type = torch.float64,\n",
    ")"
   ]
  },
  {
   "cell_type": "code",
   "execution_count": null,
   "metadata": {},
   "outputs": [],
   "source": [
    "dataset"
   ]
  },
  {
   "cell_type": "code",
   "execution_count": null,
   "metadata": {},
   "outputs": [],
   "source": [
    "dataset.processed_file_names()"
   ]
  },
  {
   "cell_type": "code",
   "execution_count": null,
   "metadata": {},
   "outputs": [],
   "source": [
    "\n",
    "(train_loader, test_loader) = dataset_to_loader(\n",
    "    dataset=dataset,\n",
    "    data_subset_dict={\n",
    "        'train': list(range(0, 30)),\n",
    "        'test': list(range(30, 35))\n",
    "    },\n",
    "    n_data_per_batch=200\n",
    ")"
   ]
  },
  {
   "cell_type": "code",
   "execution_count": null,
   "metadata": {},
   "outputs": [],
   "source": [
    "if not test:\n",
    "    model = GraphNet(\n",
    "        n_fields=args.n_fields,\n",
    "        n_meshfields=args.n_meshfields,\n",
    "        n_timesteps=args.n_timesteps,\n",
    "        hidden_size=args.hidden_size,\n",
    "        n_layers=args.n_layers,\n",
    "        n_previous_timesteps=args.n_previous_timesteps,\n",
    "        act=args.act,\n",
    "    )\n",
    "    setattr(model, 'name', 'model_GraphUNet')\n",
    "    model = model.to(args.device)\n",
    "    # model.load_state_dict(torch.load(f'models/{model.name}_node2_epoch6000.pth', map_location=args.device) )\n",
    "    optimizer = torch.optim.Adam(model.parameters(), lr=args.lr, weight_decay=args.weight_decay)\n",
    "    setattr(args, 'optimizer', optimizer)\n",
    "    model"
   ]
  },
  {
   "cell_type": "code",
   "execution_count": null,
   "metadata": {},
   "outputs": [],
   "source": [
    "# Train\n",
    "if not test:\n",
    "    start_epoch = 0\n",
    "    for epoch in range(args.n_epoch):\n",
    "        CUDA_LAUCH_BLOCKING = 1\n",
    "        torch.cuda.empty_cache()\n",
    "\n",
    "        train_loss = 0\n",
    "        for i in range(train_loader.__len__()):\n",
    "            data = next(iter(train_loader))\n",
    "            data = data.to(args.device)\n",
    "            \n",
    "            F_true = torch.cat([data.pressure.unsqueeze(2)], dim=2) \\\n",
    "                        .float().to(args.device)\n",
    "            model.train()\n",
    "            args.optimizer.zero_grad()\n",
    "            F_pred = model.forward(data)\n",
    "\n",
    "            loss = args.criterion(F_pred, F_true)\n",
    "            loss.backward()\n",
    "            args.optimizer.step()\n",
    "            train_loss += loss.item()\n",
    "        train_loss /= train_loader.__len__()\n",
    "\n",
    "        eval_loss = 0\n",
    "        for i in range(test_loader.__len__()):\n",
    "            data = next(iter(test_loader))\n",
    "            data = data.to(args.device)\n",
    "\n",
    "            F_true = torch.cat([data.pressure.unsqueeze(2)], dim=2) \\\n",
    "                        .float().to(args.device)\n",
    "            model.eval()\n",
    "            F_pred = model.forward(data)\n",
    "\n",
    "            loss = args.criterion(F_pred, F_true)\n",
    "            eval_loss += loss.item()\n",
    "        eval_loss /= test_loader.__len__()\n",
    "\n",
    "        print(f'Epoch {epoch}: train loss = {train_loss}; eval loss = {eval_loss}')\n",
    "\n",
    "        if (epoch+1) % 50 == 0:\n",
    "            torch.save(model.state_dict(), f'models/{model.name}_node1_epoch{start_epoch+epoch+1}.pth')\n"
   ]
  },
  {
   "cell_type": "code",
   "execution_count": null,
   "metadata": {},
   "outputs": [],
   "source": [
    "# Test\n",
    "if test:\n",
    "    model = GraphNet(\n",
    "        n_fields=args.n_fields,\n",
    "        n_meshfields=args.n_meshfields,\n",
    "        n_timesteps=args.n_timesteps,\n",
    "        hidden_size=args.hidden_size,\n",
    "        n_layers=args.n_layers,\n",
    "        n_previous_timesteps=args.n_previous_timesteps,\n",
    "        act=args.act,\n",
    "    )\n",
    "    setattr(model, 'name', 'model_GraphUNet')\n",
    "    model = model.to(args.device)\n",
    "    model.load_state_dict(torch.load(f'models/{model.name}_node1_epoch50.pth', map_location=args.device) )\n",
    "    optimizer = torch.optim.Adam(model.parameters(), lr=args.lr, weight_decay=args.weight_decay)\n",
    "    setattr(args, 'optimizer', optimizer)\n",
    "    model"
   ]
  },
  {
   "cell_type": "code",
   "execution_count": null,
   "metadata": {},
   "outputs": [],
   "source": [
    "if test:\n",
    "    i_data = 38\n",
    "    data = dataset[i_data].to(args.device)\n",
    "\n",
    "\n",
    "    ##\n",
    "    F_true = torch.cat([data.pressure.unsqueeze(2)], dim=2) \\\n",
    "                .float().to(args.device)\n",
    "\n",
    "    ##\n",
    "    model.eval()\n",
    "\n",
    "    with torch.no_grad():\n",
    "        \n",
    "        F_pred = model.forward(\n",
    "            data=data\n",
    "        )\n",
    "    # F_pred = torch.transpose(F_pred, 1, 2)\n",
    "    print(F_true.size(), F_pred.size())\n",
    "\n",
    "    loss = args.criterion(F_pred, F_true)\n",
    "    print(loss.item())\n",
    "\n",
    "\n",
    "\n",
    "    ##\n",
    "    # gen = dataset[i_data].node_attr[:,5]\n",
    "    node_list = [1, 10, 50, 100, 1000, 2000, 5000, 20000, 30000, 40000, 50000]\n",
    "    ## Draw pressure\n",
    "    import matplotlib.pyplot as plt\n",
    "    for i_node in node_list:\n",
    "        i_field = 0\n",
    "        y_pred = F_pred.cpu().numpy()[i_node,:,i_field]\n",
    "        y_true = F_true.cpu().numpy()[i_node,:,i_field]\n",
    "\n",
    "        # print(y_true.shape, y_pred.shape)\n",
    "        x = [i * 4.0 /200 for i in range(y_pred.shape[0])]\n",
    "        # print(data.node_attr.numpy()[i_node, 6])\n",
    "        plt.ylim(0,1)\n",
    "        # plt.title(f'gen = {int(gen[i_node])}')\n",
    "        plt.plot(x, y_pred, c='red', label='GNN model')\n",
    "        plt.plot(x, y_true, c='blue', linestyle='dashdot', label='1DCFD')\n",
    "        # plt.ylim([0.46,0.55])\n",
    "        plt.legend(loc='upper right')\n",
    "        plt.ylabel('Pressure', fontsize=20)\n",
    "        plt.xlabel('Time', fontsize=20)\n",
    "        plt.show()"
   ]
  }
 ],
 "metadata": {
  "kernelspec": {
   "display_name": "tam_geometric",
   "language": "python",
   "name": "python3"
  },
  "language_info": {
   "codemirror_mode": {
    "name": "ipython",
    "version": 3
   },
   "file_extension": ".py",
   "mimetype": "text/x-python",
   "name": "python",
   "nbconvert_exporter": "python",
   "pygments_lexer": "ipython3",
   "version": "3.11.7"
  }
 },
 "nbformat": 4,
 "nbformat_minor": 2
}
