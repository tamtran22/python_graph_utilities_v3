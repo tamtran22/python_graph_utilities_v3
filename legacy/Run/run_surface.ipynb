{
 "cells": [
  {
   "cell_type": "code",
   "execution_count": null,
   "metadata": {},
   "outputs": [],
   "source": [
    "import sys\n",
    "sys.path.insert(1, '../Codes_2Dsurface/')\n",
    "import os\n",
    "os.environ[\"CUDA_VISIBLE_DEVICES\"]=\"0,1,2,3\""
   ]
  },
  {
   "cell_type": "markdown",
   "metadata": {},
   "source": [
    "Load libraries"
   ]
  },
  {
   "cell_type": "code",
   "execution_count": null,
   "metadata": {},
   "outputs": [],
   "source": [
    "import torch\n",
    "from torch_geometric.loader import DataLoader\n",
    "from data.graph_dataset import TwoDDatasetBuilder, TwoDDatasetLoader, normalize\n",
    "from networks.gcn import SurfaceRegresionNet\n",
    "from data.utils import write_zone_to_tec"
   ]
  },
  {
   "cell_type": "code",
   "execution_count": null,
   "metadata": {},
   "outputs": [],
   "source": [
    "class objectview(object):\n",
    "    def __init__(self, d) -> None:\n",
    "        self.__dict__ = d\n",
    "    def setattr(self, attr_name, attr_value):\n",
    "        self.__dict__[attr_name] = attr_value\n",
    "\n",
    "args = objectview({\n",
    "    'in_channels': 10,\n",
    "    'out_channels': 1,\n",
    "    'hidden_size': 64,\n",
    "    'aggr': 'sum',\n",
    "    'act': torch.nn.functional.mish,\n",
    "    'device': torch.device('cuda:0' if torch.cuda.is_available() else 'cpu'),\n",
    "    'lr': 5e-8,\n",
    "    'weight_decay': 5e-3,\n",
    "    'epoch': 1000,\n",
    "    'n_data_per_batch': 10,\n",
    "    'criterion': torch.nn.MSELoss()\n",
    "})"
   ]
  },
  {
   "cell_type": "markdown",
   "metadata": {},
   "source": [
    "Build dataset"
   ]
  },
  {
   "cell_type": "code",
   "execution_count": null,
   "metadata": {},
   "outputs": [],
   "source": [
    "dataset = TwoDDatasetBuilder(\n",
    "    raw_dir = '/data1/tam/dataset_surface/yp', # Path to raw data files\n",
    "    root_dir = '/data1/tam/download_dataset_surface_v1', # Path to store processed data files\n",
    "    sub_dir = 'processed',\n",
    "    subjects = 'all',\n",
    "    time_names = 'all',\n",
    "    data_type = torch.float32\n",
    ")"
   ]
  },
  {
   "cell_type": "markdown",
   "metadata": {},
   "source": [
    "Load dataset"
   ]
  },
  {
   "cell_type": "code",
   "execution_count": null,
   "metadata": {},
   "outputs": [],
   "source": [
    "dataset = TwoDDatasetLoader(\n",
    "    root_dir = '/data1/tam/download_dataset_surface_v1', # Path to store processed data files\n",
    "    sub_dir = 'processed',\n",
    "    subjects = 'all',\n",
    "    time_names = 'all',\n",
    "    data_type = torch.float32\n",
    ")"
   ]
  },
  {
   "cell_type": "code",
   "execution_count": null,
   "metadata": {},
   "outputs": [],
   "source": [
    "dataset = normalize(\n",
    "    dataset=dataset,\n",
    "    sub_dir='normalized',\n",
    "    scaler_dict = {\n",
    "        'node_attr': ['minmax_scaler', 0],\n",
    "        # 'output': ['minmax_scaler', 0]\n",
    "    }\n",
    ")"
   ]
  },
  {
   "cell_type": "code",
   "execution_count": null,
   "metadata": {},
   "outputs": [],
   "source": [
    "dataset = TwoDDatasetLoader(\n",
    "    root_dir = '/data1/tam/download_dataset_surface_v1', # Path to store processed data files\n",
    "    sub_dir = 'normalized',\n",
    "    subjects = 'all',\n",
    "    time_names = 'all',\n",
    "    data_type = torch.float32\n",
    ")"
   ]
  },
  {
   "cell_type": "markdown",
   "metadata": {},
   "source": [
    "Model initializing"
   ]
  },
  {
   "cell_type": "code",
   "execution_count": null,
   "metadata": {},
   "outputs": [],
   "source": [
    "model = SurfaceRegresionNet(\n",
    "    in_channels=args.in_channels,\n",
    "    out_channels=args.out_channels,\n",
    "    hidden_channels=args.hidden_size, # (hidden size, number of hidden layers)\n",
    "    aggr=args.aggr,\n",
    "    act=args.act\n",
    ")\n",
    "model.to(args.device)\n",
    "optimizer = torch.optim.Adam(model.parameters(), lr=args.lr, weight_decay=args.weight_decay)"
   ]
  },
  {
   "cell_type": "markdown",
   "metadata": {},
   "source": [
    "Training"
   ]
  },
  {
   "cell_type": "code",
   "execution_count": null,
   "metadata": {},
   "outputs": [],
   "source": [
    "def train(model, data, args):\n",
    "    ##\n",
    "    x = data.node_attr.float().to(args.device)\n",
    "    edge_index = data.edge_index.to(args.device)\n",
    "    output = data.output.unsqueeze(1).float().to(args.device)\n",
    "    ##\n",
    "    output_hat = model(x, edge_index)\n",
    "    loss = args.criterion(output_hat, output)\n",
    "    loss.backward()\n",
    "    optimizer.step()\n",
    "    return loss.item()\n",
    "\n",
    "def eval(model, data, args):\n",
    "    ##\n",
    "    x = data.node_attr.float().to(args.device)\n",
    "    edge_index = data.edge_index.to(args.device)\n",
    "    output = data.output.unsqueeze(1).float().to(args.device)\n",
    "    ##\n",
    "    with torch.no_grad():\n",
    "        output_hat = model(x, edge_index)\n",
    "        loss = args.criterion(output_hat, output)\n",
    "    return loss.item(), output_hat"
   ]
  },
  {
   "cell_type": "code",
   "execution_count": null,
   "metadata": {},
   "outputs": [],
   "source": [
    "train_subjects = ['in01ra_0050-0100m_yp', 'in01rb_0050-0100m_yp', 'is02ra_0050-0100m_yp', \\\n",
    "                  'it01rc_0050-0100m_yp', 'it02ra_0050-0100m_yp', 'it02rc_0050-0100m_yp']\n",
    "eval_subjects = ['in02ra_0050-0100m_yp', 'in02rb_0050-0100m_yp']\n",
    "##\n",
    "train_set = []\n",
    "for subject in train_subjects:\n",
    "    train_set += [dataset[i] for i in range(dataset.len()) if (subject in dataset.processed_file_names()[i])]\n",
    "\n",
    "eval_set = []\n",
    "for subject in eval_subjects:\n",
    "    eval_set += [dataset[i] for i in range(dataset.len()) if (subject in dataset.processed_file_names()[i])]\n",
    "##\n",
    "train_loader = DataLoader(train_set, batch_size=args.n_data_per_batch)\n",
    "eval_loader = DataLoader(eval_set, batch_size=args.n_data_per_batch)"
   ]
  },
  {
   "cell_type": "code",
   "execution_count": null,
   "metadata": {},
   "outputs": [],
   "source": [
    "# Training\n",
    "total_train_loss = []\n",
    "total_eval_loss = []\n",
    "for epoch in range(args.epoch):\n",
    "    torch.cuda.empty_cache()\n",
    "    train_loss = 0\n",
    "    for i in range(train_loader.__len__()):\n",
    "        data = next(iter(train_loader))\n",
    "        train_loss += train(model=model, data=data, args=args)\n",
    "    train_loss /= train_loader.__len__() # len(train_dataset)\n",
    "    total_train_loss.append(train_loss)\n",
    "\n",
    "    eval_loss = 0\n",
    "    for i in range(eval_loader.__len__()):\n",
    "        data = next(iter(eval_loader))\n",
    "        eval_loss += eval(model=model, data=data, args=args)[0]\n",
    "    eval_loss /= eval_loader.__len__()\n",
    "    total_eval_loss.append(eval_loss)\n",
    "    \n",
    "    print(f'Epoch {epoch}: train loss = {train_loss}; eval loss = {eval_loss}')\n",
    "    # if (epoch+1) % 20 == 0:\n",
    "    #     torch.save(model.state_dict(), f'models/parc_test_epoch{epoch+1}.pth')"
   ]
  },
  {
   "cell_type": "code",
   "execution_count": null,
   "metadata": {},
   "outputs": [],
   "source": [
    "# raw_dataset = TwoDDatasetLoader(\n",
    "#     root_dir = '/data1/tam/download_dataset_surface_v1', # Path to store processed data files\n",
    "#     sub_dir = 'processed',\n",
    "#     subjects = 'all',\n",
    "#     time_names = 'all',\n",
    "#     data_type = torch.float32\n",
    "# )\n",
    "\n",
    "print_subjects = ['in02ra_0050-0100m_yp']\n",
    "##\n",
    "print_set = []\n",
    "for subject in print_subjects:\n",
    "    print_set += [dataset[i] for i in range(dataset.len()) if (subject in dataset.processed_file_names()[i])]\n",
    "\n",
    "\n",
    "pred_datas = []\n",
    "scaler = dataset.load_scaler('output')\n",
    "for i in range(len(print_set)):\n",
    "    data = print_set[i]\n",
    "    x = data.node_attr.float().to(args.device)\n",
    "    edge_index = data.edge_index.to(args.device)\n",
    "    with torch.no_grad():\n",
    "        output = model(x, edge_index)\n",
    "    # output = scaler.inverse_transform(output.detach().cpu().numpy())\n",
    "    output = output.detach().cpu().numpy()\n",
    "    data.output = torch.tensor(output.squeeze(1))\n",
    "    pred_datas.append(data)\n",
    "\n",
    "write_zone_to_tec('test.dat', pred_datas)"
   ]
  }
 ],
 "metadata": {
  "kernelspec": {
   "display_name": "geometric",
   "language": "python",
   "name": "python3"
  },
  "language_info": {
   "codemirror_mode": {
    "name": "ipython",
    "version": 3
   },
   "file_extension": ".py",
   "mimetype": "text/x-python",
   "name": "python",
   "nbconvert_exporter": "python",
   "pygments_lexer": "ipython3",
   "version": "3.11.3"
  }
 },
 "nbformat": 4,
 "nbformat_minor": 2
}
