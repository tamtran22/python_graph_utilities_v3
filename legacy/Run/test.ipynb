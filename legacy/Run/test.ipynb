{
 "cells": [
  {
   "cell_type": "code",
   "execution_count": 1,
   "metadata": {},
   "outputs": [],
   "source": [
    "import sys\n",
    "sys.path.insert(1, '../Codes_1Dtree')\n",
    "import os\n",
    "os.environ[\"CUDA_VISIBLE_DEVICES\"]=\"0\"\n",
    "CUDA_LAUNCH_BLOCKING=1\n",
    "\n",
    "import torch\n",
    "from torch_geometric.loader import DataLoader\n",
    "from data.graph_dataset import OneDDatasetBuilder, OneDDatasetLoader, normalize\n",
    "# from networks.gcn import GraphUNet, RecurrentFormulationNet\n",
    "from networks.gcnv6 import RecurrentFormulationNet\n",
    "import matplotlib.pyplot as plt\n",
    "from torch_geometric.loader import NeighborLoader\n",
    "from networks.losses import LpLoss"
   ]
  },
  {
   "cell_type": "code",
   "execution_count": 2,
   "metadata": {},
   "outputs": [],
   "source": [
    "dataset = OneDDatasetLoader(\n",
    "    root_dir='/data1/tam/downloaded_datasets_edge_node_separated',\n",
    "    sub_dir='processed',\n",
    "    subjects='all',\n",
    "    time_names=[str(i).zfill(3) for i in range(201)],\n",
    "    data_type = torch.float32\n",
    ")"
   ]
  },
  {
   "cell_type": "code",
   "execution_count": 3,
   "metadata": {},
   "outputs": [
    {
     "data": {
      "text/plain": [
       "((2, 59587), (59587, 13))"
      ]
     },
     "execution_count": 3,
     "metadata": {},
     "output_type": "execute_result"
    }
   ],
   "source": [
    "from data.utils import edge_to_node\n",
    "data = dataset[0]\n",
    "edge_index = data.edge_index.numpy()\n",
    "edge_attr = data.edge_attr.numpy()\n",
    "edge_index.shape, edge_attr.shape"
   ]
  },
  {
   "cell_type": "code",
   "execution_count": 4,
   "metadata": {},
   "outputs": [
    {
     "data": {
      "text/plain": [
       "array([[119.3386   ,  18.59934  ,   0.       , ...,   0.       ,\n",
       "         61.       , 161.       ],\n",
       "       [ 69.168434 ,  15.23355  ,   0.6666667, ...,   0.       ,\n",
       "         61.       , 161.       ],\n",
       "       [ 24.908289 ,  12.24978  ,   1.6666666, ...,   0.       ,\n",
       "         61.       , 161.       ],\n",
       "       ...,\n",
       "       [  2.146273 ,   0.7140988,  23.       , ...,   0.       ,\n",
       "         61.       , 161.       ],\n",
       "       [  2.394855 ,   0.7140992,  24.       , ...,   0.       ,\n",
       "         61.       , 161.       ],\n",
       "       [  0.8604463,   0.7140992,  24.       , ...,   0.       ,\n",
       "         61.       , 161.       ]], dtype=float32)"
      ]
     },
     "execution_count": 4,
     "metadata": {},
     "output_type": "execute_result"
    }
   ],
   "source": [
    "a=edge_to_node(edge_attr, edge_index)"
   ]
  }
 ],
 "metadata": {
  "kernelspec": {
   "display_name": "tam_geometric",
   "language": "python",
   "name": "python3"
  },
  "language_info": {
   "codemirror_mode": {
    "name": "ipython",
    "version": 3
   },
   "file_extension": ".py",
   "mimetype": "text/x-python",
   "name": "python",
   "nbconvert_exporter": "python",
   "pygments_lexer": "ipython3",
   "version": "3.11.7"
  }
 },
 "nbformat": 4,
 "nbformat_minor": 2
}
