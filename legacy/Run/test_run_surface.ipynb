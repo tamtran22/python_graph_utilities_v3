{
 "cells": [
  {
   "cell_type": "code",
   "execution_count": 1,
   "metadata": {},
   "outputs": [],
   "source": [
    "import sys\n",
    "sys.path.insert(1, '../Codes_2Dsurface/')"
   ]
  },
  {
   "cell_type": "code",
   "execution_count": 2,
   "metadata": {},
   "outputs": [],
   "source": [
    "# from data.utils import read_2Dvolume_data\n",
    "\n",
    "# out = read_2Dvolume_data('/data1/tam/dataset_surface/in01ra/in01ra_0050-0100m_yp.dat')"
   ]
  },
  {
   "cell_type": "code",
   "execution_count": 3,
   "metadata": {},
   "outputs": [
    {
     "name": "stderr",
     "output_type": "stream",
     "text": [
      "Processing...\n"
     ]
    },
    {
     "name": "stdout",
     "output_type": "stream",
     "text": [
      "Process subject number 0, subject name : in01ra_0050-0100m_yp.\n",
      "Process subject number 1, subject name : in01rb_0050-0100m_yp.\n",
      "Process subject number 2, subject name : in02ra_0050-0100m_yp.\n",
      "Process subject number 3, subject name : in02rb_0050-0100m_yp.\n"
     ]
    },
    {
     "name": "stderr",
     "output_type": "stream",
     "text": [
      "Done!\n"
     ]
    }
   ],
   "source": [
    "from data.graph_dataset import TwoDDatasetBuilder\n",
    "import torch\n",
    "dataset = TwoDDatasetBuilder(\n",
    "    raw_dir = '/data1/tam/dataset_surface/yp', # Path to raw data files\n",
    "    root_dir = '/data1/tam/download_dataset_surface_v1', # Path to store processed data files\n",
    "    sub_dir = 'processed',\n",
    "    subjects = 'all',\n",
    "    time_names = 'all',\n",
    "    data_type = torch.float32\n",
    ")"
   ]
  },
  {
   "cell_type": "code",
   "execution_count": 4,
   "metadata": {},
   "outputs": [
    {
     "data": {
      "text/plain": [
       "TorchGraphData(node_xyz=[154, 3], elements=[263, 3], edge_index=[2, 746], node_attr=[263, 10], output=[263])"
      ]
     },
     "execution_count": 4,
     "metadata": {},
     "output_type": "execute_result"
    }
   ],
   "source": [
    "from data.graph_dataset import TwoDDatasetLoader\n",
    "import torch\n",
    "dataset = TwoDDatasetLoader(\n",
    "    root_dir = '/data1/tam/download_dataset_surface_v1', # Path to store processed data files\n",
    "    sub_dir = 'processed',\n",
    "    subjects = 'all',\n",
    "    time_names = 'all',\n",
    "    data_type = torch.float32\n",
    ")\n",
    "data = dataset[0]\n",
    "data"
   ]
  },
  {
   "cell_type": "code",
   "execution_count": 5,
   "metadata": {},
   "outputs": [],
   "source": [
    "# from data.utils import write_zone_to_tec\n",
    "# zone_datas = dataset.export_subject('in01ra_0050-0100m_yp')\n",
    "\n",
    "# write_zone_to_tec('test.dat', zone_datas)"
   ]
  },
  {
   "cell_type": "code",
   "execution_count": 6,
   "metadata": {},
   "outputs": [],
   "source": [
    "# from networks.gcn import SurfaceRegresionNet\n",
    "# import torch\n",
    "\n",
    "# model = SurfaceRegresionNet(\n",
    "#     in_channels=10,\n",
    "#     out_channels=1,\n",
    "#     hidden_channels=(256,10),\n",
    "#     aggr='sum'\n",
    "# )\n",
    "\n",
    "# criterion = torch.nn.MSELoss()\n",
    "# optimizer = torch.optim.Adam(model.parameters(), lr=5e-6, weight_decay=1e-2)\n",
    "\n",
    "# x = data.node_attr\n",
    "# edge_index = data.edge_index\n",
    "# output = data.output\n",
    "\n",
    "# for _epoch in range(500):\n",
    "#     output_hat = model(x, edge_index)\n",
    "\n",
    "#     loss = criterion(output, output_hat)\n",
    "\n",
    "#     loss.backward()\n",
    "#     optimizer.step()\n",
    "\n",
    "#     print(loss.item())\n"
   ]
  },
  {
   "cell_type": "code",
   "execution_count": 7,
   "metadata": {},
   "outputs": [],
   "source": [
    "# from data.utils import element_to_graph\n",
    "# import numpy as np\n",
    "# elements = dataset[0].element.numpy().astype(np.int32)\n",
    "# print(elements.shape)\n",
    "# edge_index = element_to_graph(elements)"
   ]
  },
  {
   "cell_type": "code",
   "execution_count": 8,
   "metadata": {},
   "outputs": [],
   "source": [
    "# import numpy as np\n",
    "# from data.utils import elements_area\n",
    "# elements = dataset[0].element.numpy().astype(np.int32)\n",
    "# nodes_xyz = dataset[0].node_attr.numpy().astype(np.float32)\n",
    "# elements_area(elements, nodes_xyz)"
   ]
  }
 ],
 "metadata": {
  "kernelspec": {
   "display_name": "geometric",
   "language": "python",
   "name": "python3"
  },
  "language_info": {
   "codemirror_mode": {
    "name": "ipython",
    "version": 3
   },
   "file_extension": ".py",
   "mimetype": "text/x-python",
   "name": "python",
   "nbconvert_exporter": "python",
   "pygments_lexer": "ipython3",
   "version": "3.11.3"
  }
 },
 "nbformat": 4,
 "nbformat_minor": 2
}
