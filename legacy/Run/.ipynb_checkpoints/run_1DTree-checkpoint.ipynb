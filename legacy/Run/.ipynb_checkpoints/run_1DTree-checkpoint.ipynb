{
 "cells": [
  {
   "cell_type": "code",
   "execution_count": 1,
   "metadata": {},
   "outputs": [],
   "source": [
    "import sys\n",
    "sys.path.insert(1, '../Codes_1Dtree')\n",
    "import os\n",
    "os.environ[\"CUDA_VISIBLE_DEVICES\"]=\"0,1,2,3\""
   ]
  },
  {
   "cell_type": "markdown",
   "metadata": {},
   "source": [
    "Load libraries"
   ]
  },
  {
   "cell_type": "code",
   "execution_count": 2,
   "metadata": {},
   "outputs": [],
   "source": [
    "import torch\n",
    "from torch_geometric.loader import DataLoader\n",
    "from data.graph_dataset import OneDDatasetBuilder, OneDDatasetLoader, normalize\n",
    "from networks.gcn import GraphUNet, RecurrentFormulationNet\n",
    "import matplotlib.pyplot as plt"
   ]
  },
  {
   "cell_type": "code",
   "execution_count": 3,
   "metadata": {},
   "outputs": [],
   "source": [
    "class objectview(object):\n",
    "    def __init__(self, d) -> None:\n",
    "        self.__dict__ = d\n",
    "    def setattr(self, attr_name, attr_value):\n",
    "        self.__dict__[attr_name] = attr_value\n",
    "\n",
    "args = objectview({\n",
    "    'n_field': 2,\n",
    "    'n_meshfield': 10,\n",
    "    'hidden_size': 64,\n",
    "    'latent_size': 64,\n",
    "    'aggr': 'sum',\n",
    "    'act': torch.nn.functional.mish,\n",
    "    'device': torch.device('cuda:0' if torch.cuda.is_available() else 'cpu'),\n",
    "    'lr': 5e-8,\n",
    "    'weight_decay': 5e-3,\n",
    "    'epoch': 1000,\n",
    "    'n_data_per_batch': 10,\n",
    "    'criterion': torch.nn.MSELoss(),\n",
    "    'plot': False\n",
    "})"
   ]
  },
  {
   "cell_type": "markdown",
   "metadata": {},
   "source": [
    "Load dataset"
   ]
  },
  {
   "cell_type": "code",
   "execution_count": 4,
   "metadata": {},
   "outputs": [],
   "source": [
    "dataset = OneDDatasetBuilder(\n",
    "    raw_dir='/data1/tam/datasets_231228',\n",
    "    root_dir='/data1/tam/downloaded_datasets_WT_v1',\n",
    "    sub_dir='processed',\n",
    "    subjects='all',\n",
    "    time_names=[str(i).zfill(3) for i in range(201)],\n",
    "    data_type = torch.float32,\n",
    "    readme='edge_index(2xn_edge), node_attr(n_nodex10), pressure+flowrate(n_nodex201)'\n",
    ")"
   ]
  },
  {
   "cell_type": "code",
   "execution_count": 5,
   "metadata": {},
   "outputs": [],
   "source": [
    "dataset = OneDDatasetLoader(\n",
    "    root_dir='/data1/tam/downloaded_datasets_WT_v1',\n",
    "    sub_dir='processed',\n",
    "    subjects='all',\n",
    "    time_names=[str(i).zfill(3) for i in range(201)],\n",
    "    data_type = torch.float32\n",
    ")\n",
    "_x = torch.clip(dataset[0].flowrate.flatten(), -1e-6, 1e-6)"
   ]
  },
  {
   "cell_type": "code",
   "execution_count": 6,
   "metadata": {},
   "outputs": [],
   "source": [
    "# dataset = normalize(\n",
    "#     dataset=dataset,\n",
    "#     sub_dir='normalized',\n",
    "#     scaler_dict={\n",
    "#         'node_attr': ('minmax_scaler', 0, None),\n",
    "#         'pressure': ('minmax_scaler', None, None),\n",
    "#         'flowrate': ('minmax_scaler', None, (-1e-6, 1e-6))\n",
    "#     }\n",
    "# )\n",
    "# _x = dataset[0].flowrate.flatten()\n",
    "# if args.plot:\n",
    "#     plt.xlim([-1,1])\n",
    "#     plt.hist(_x, bins=100)\n",
    "#     plt.show()"
   ]
  },
  {
   "cell_type": "code",
   "execution_count": 7,
   "metadata": {},
   "outputs": [],
   "source": [
    "# dataset = OneDDatasetLoader(\n",
    "#     root_dir='/data1/tam/downloaded_datasets_WT_v1',\n",
    "#     sub_dir='normalized',\n",
    "#     subjects='all',\n",
    "#     time_names=[str(i).zfill(3) for i in range(201)],\n",
    "#     data_type = torch.float32\n",
    "# )"
   ]
  },
  {
   "cell_type": "markdown",
   "metadata": {},
   "source": [
    "Model initializing"
   ]
  },
  {
   "cell_type": "code",
   "execution_count": 8,
   "metadata": {},
   "outputs": [],
   "source": [
    "model = RecurrentFormulationNet(\n",
    "    n_field=args.n_field,\n",
    "    n_meshfield=args.n_meshfield,\n",
    "    hidden_size=args.hidden_size,\n",
    "    latent_size=args.latent_size,\n",
    "    act=args.act\n",
    ")\n",
    "model = model.to(args.device)\n",
    "optimizer = torch.optim.Adam(model.parameters(), lr=args.lr, weight_decay=args.weight_decay)\n",
    "setattr(args, 'optimizer', optimizer)"
   ]
  },
  {
   "cell_type": "markdown",
   "metadata": {},
   "source": [
    "Training"
   ]
  },
  {
   "cell_type": "code",
   "execution_count": 9,
   "metadata": {},
   "outputs": [],
   "source": [
    "def train(model, data, args):\n",
    "    ##\n",
    "    F_true = torch.cat([data.pressure.unsqueeze(2), data.flowrate.unsqueeze(2)], dim=2) \\\n",
    "                .float().to(args.device)\n",
    "    ##\n",
    "    F_0 = F_true[:,0,:]\n",
    "    edge_index = data.edge_index.to(args.device)\n",
    "    node_attr = data.node_attr.float().to(args.device)\n",
    "    F_true = F_true[:,1:,:]\n",
    "    ##\n",
    "    F_pred = model.forward(\n",
    "        F=F_0,\n",
    "        edge_index=edge_index,\n",
    "        meshfield=node_attr,\n",
    "        n_time=data.number_of_timesteps - 1\n",
    "    )\n",
    "    ##\n",
    "    loss = args.criterion(F_pred, F_true)\n",
    "    loss.backward()\n",
    "    args.optimizer.step()\n",
    "    \n",
    "    return loss.item()"
   ]
  },
  {
   "cell_type": "code",
   "execution_count": 10,
   "metadata": {},
   "outputs": [],
   "source": [
    "# train(model, dataset[0], args)"
   ]
  },
  {
   "cell_type": "code",
   "execution_count": 1,
   "metadata": {},
   "outputs": [
    {
     "ename": "ModuleNotFoundError",
     "evalue": "No module named 'data'",
     "output_type": "error",
     "traceback": [
      "\u001b[0;31m---------------------------------------------------------------------------\u001b[0m",
      "\u001b[0;31mModuleNotFoundError\u001b[0m                       Traceback (most recent call last)",
      "Cell \u001b[0;32mIn[1], line 1\u001b[0m\n\u001b[0;32m----> 1\u001b[0m \u001b[38;5;28;01mfrom\u001b[39;00m \u001b[38;5;21;01mdata\u001b[39;00m\u001b[38;5;21;01m.\u001b[39;00m\u001b[38;5;21;01mgraph_dataset\u001b[39;00m \u001b[38;5;28;01mimport\u001b[39;00m batchgraph_generation_wise\n\u001b[1;32m      3\u001b[0m batchgraph_generation_wise(dataset)\n",
      "\u001b[0;31mModuleNotFoundError\u001b[0m: No module named 'data'"
     ]
    }
   ],
   "source": [
    "from data.graph_dataset import batchgraph_generation_wise\n",
    "\n",
    "batchgraph_generation_wise(dataset)"
   ]
  }
 ],
 "metadata": {
  "kernelspec": {
   "display_name": "geometric",
   "language": "python",
   "name": "python3"
  },
  "language_info": {
   "codemirror_mode": {
    "name": "ipython",
    "version": 3
   },
   "file_extension": ".py",
   "mimetype": "text/x-python",
   "name": "python",
   "nbconvert_exporter": "python",
   "pygments_lexer": "ipython3",
   "version": "3.11.3"
  }
 },
 "nbformat": 4,
 "nbformat_minor": 2
}
